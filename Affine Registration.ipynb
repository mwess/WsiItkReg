{
 "cells": [
  {
   "cell_type": "markdown",
   "metadata": {},
   "source": [
    "# Test for affine alignment"
   ]
  },
  {
   "cell_type": "code",
   "execution_count": 14,
   "metadata": {},
   "outputs": [],
   "source": [
    "%reload_ext autoreload\n",
    "%autoreload 2\n",
    "%matplotlib inline"
   ]
  },
  {
   "cell_type": "code",
   "execution_count": 15,
   "metadata": {},
   "outputs": [],
   "source": [
    "import os\n",
    "\n",
    "import matplotlib.pyplot as plt\n",
    "import SimpleITK as sitk\n",
    "\n",
    "\n",
    "from wsiitkreg.affine import affine_align_image\n",
    "from wsiitkreg.util import ordered_images_to_batches, split_by_core_id_and_sort"
   ]
  },
  {
   "cell_type": "code",
   "execution_count": 16,
   "metadata": {},
   "outputs": [],
   "source": [
    "# Choose and load dataset\n",
    "dataset = '/home/maximilw/workbench/wsi/exports/frozen_storage/normalized_frozen_storage'\n",
    "\n",
    "cores = split_by_core_id_and_sort([x for x in os.listdir(dataset) if x.endswith('.tif')])\n",
    "for key in cores:\n",
    "    cores[key] = [os.path.join(dataset, x) for x in cores[key]]\n",
    "    \n",
    "core_A = ordered_images_to_batches(cores['A'])\n",
    "core_B = ordered_images_to_batches(cores['B'])\n",
    "core_C = ordered_images_to_batches(cores['C'])\n",
    "core_D = ordered_images_to_batches(cores['D'])"
   ]
  },
  {
   "cell_type": "code",
   "execution_count": 17,
   "metadata": {},
   "outputs": [],
   "source": [
    "def align_core(core):\n",
    "    \n",
    "    aligned_core = []\n",
    "    print('Core size: ', len(core))\n",
    "    print()\n",
    "    for i, batch in enumerate(core):\n",
    "        print('Next batch index: ', i)\n",
    "        transformed_image, transform, fixed_mask, moving_mask = affine_align_image(batch['source_image_path'], batch['target_image_path'])\n",
    "        batch['sitk_transformed_image'] = transformed_image\n",
    "        batch['transform'] = transform\n",
    "        batch['fixed_mask'] = fixed_mask\n",
    "        batch['moving_mask'] = moving_mask\n",
    "        batch['source_image'] = sitk.GetArrayFromImage(sitk.ReadImage(batch['source_image_path'], sitk.sitkFloat32))\n",
    "        batch['target_image'] = sitk.GetArrayFromImage(sitk.ReadImage(batch['target_image_path'], sitk.sitkFloat32))\n",
    "        batch['transformed_image'] = sitk.GetArrayFromImage(batch['sitk_transformed_image'])\n",
    "        aligned_core.append(batch)\n",
    "\n",
    "    plot_alignment(core)\n",
    "\n",
    "def plot_alignment(core):\n",
    "    \n",
    "    nrows = len(core)\n",
    "    ncols = 3\n",
    "\n",
    "    fix, axs = plt.subplots(nrows, ncols, figsize=(32,128))\n",
    "\n",
    "    for i, _ in enumerate(core):\n",
    "        axs[i, 0].imshow(core[i]['source_image'])\n",
    "        axs[i, 0].set_title('Source Image')\n",
    "        axs[i, 0].axis('off')\n",
    "        axs[i, 1].imshow(core[i]['target_image'])\n",
    "        axs[i, 1].set_title('Target Image')\n",
    "        axs[i, 1].axis('off')\n",
    "        axs[i, 2].imshow(core[i]['transformed_image'])\n",
    "        axs[i, 2].set_title('Affine')\n",
    "        axs[i, 2].axis('off')\n",
    "    plt.show()"
   ]
  },
  {
   "cell_type": "code",
   "execution_count": 18,
   "metadata": {},
   "outputs": [
    {
     "name": "stdout",
     "output_type": "stream",
     "text": [
      "Core size:  17\n",
      "\n",
      "Next batch index:  0\n",
      "Final metric value: 1186.1616636934166\n",
      "Optimizer's stopping condition, ExhaustiveOptimizerv4: Completed sampling of parametric space of size 3\n",
      "Transform parameters:  (-6.0, 10.0, 0.0)\n",
      "Next batch index:  1\n",
      "Final metric value: 1081.681889903082\n",
      "Optimizer's stopping condition, ExhaustiveOptimizerv4: Completed sampling of parametric space of size 3\n",
      "Transform parameters:  (-4.0, 8.0, 0.0)\n",
      "Next batch index:  2\n",
      "Final metric value: 434.70021584356834\n",
      "Optimizer's stopping condition, ExhaustiveOptimizerv4: Completed sampling of parametric space of size 3\n",
      "Transform parameters:  (-1.0, 0.0, 0.0)\n",
      "Next batch index:  3\n",
      "Final metric value: 1054.059140926764\n",
      "Optimizer's stopping condition, ExhaustiveOptimizerv4: Completed sampling of parametric space of size 3\n",
      "Transform parameters:  (7.0, 10.0, 0.0)\n",
      "Next batch index:  4\n",
      "Final metric value: 576.0181487638349\n",
      "Optimizer's stopping condition, ExhaustiveOptimizerv4: Completed sampling of parametric space of size 3\n",
      "Transform parameters:  (-6.0, -4.0, 0.0)\n",
      "Next batch index:  5\n",
      "Final metric value: 665.8701391781212\n",
      "Optimizer's stopping condition, ExhaustiveOptimizerv4: Completed sampling of parametric space of size 3\n",
      "Transform parameters:  (0.0, -7.0, 0.0)\n",
      "Next batch index:  6\n",
      "Final metric value: 618.2762966518394\n",
      "Optimizer's stopping condition, ExhaustiveOptimizerv4: Completed sampling of parametric space of size 3\n",
      "Transform parameters:  (-6.0, -2.0, 0.0)\n",
      "Next batch index:  7\n",
      "Final metric value: 712.7599442145741\n",
      "Optimizer's stopping condition, ExhaustiveOptimizerv4: Completed sampling of parametric space of size 3\n",
      "Transform parameters:  (-3.0, 10.0, 0.0)\n",
      "Next batch index:  8\n",
      "Final metric value: 675.1725230979417\n",
      "Optimizer's stopping condition, ExhaustiveOptimizerv4: Completed sampling of parametric space of size 3\n",
      "Transform parameters:  (-8.0, -10.0, 0.0)\n",
      "Next batch index:  9\n",
      "Final metric value: 591.981295762332\n",
      "Optimizer's stopping condition, ExhaustiveOptimizerv4: Completed sampling of parametric space of size 3\n",
      "Transform parameters:  (6.0, -1.0, 0.0)\n",
      "Next batch index:  10\n",
      "Final metric value: 648.017454301145\n",
      "Optimizer's stopping condition, ExhaustiveOptimizerv4: Completed sampling of parametric space of size 3\n",
      "Transform parameters:  (-4.0, -10.0, 0.0)\n",
      "Next batch index:  11\n",
      "Final metric value: 573.3672688126134\n",
      "Optimizer's stopping condition, ExhaustiveOptimizerv4: Completed sampling of parametric space of size 3\n",
      "Transform parameters:  (6.0, 10.0, 0.0)\n",
      "Next batch index:  12\n",
      "Final metric value: 553.7964979029385\n",
      "Optimizer's stopping condition, ExhaustiveOptimizerv4: Completed sampling of parametric space of size 3\n",
      "Transform parameters:  (7.0, -10.0, 0.0)\n",
      "Next batch index:  13\n",
      "Final metric value: 577.0653599164569\n",
      "Optimizer's stopping condition, ExhaustiveOptimizerv4: Completed sampling of parametric space of size 3\n",
      "Transform parameters:  (6.0, 9.0, 0.0)\n",
      "Next batch index:  14\n",
      "Final metric value: 536.2053590954262\n",
      "Optimizer's stopping condition, ExhaustiveOptimizerv4: Completed sampling of parametric space of size 3\n",
      "Transform parameters:  (6.0, -8.0, 0.0)\n",
      "Next batch index:  15\n",
      "Final metric value: 573.7269965688605\n",
      "Optimizer's stopping condition, ExhaustiveOptimizerv4: Completed sampling of parametric space of size 3\n",
      "Transform parameters:  (7.0, 2.0, 0.0)\n",
      "Next batch index:  16\n",
      "Final metric value: 636.1930430699882\n",
      "Optimizer's stopping condition, ExhaustiveOptimizerv4: Completed sampling of parametric space of size 3\n",
      "Transform parameters:  (-5.0, -10.0, 0.0)\n"
     ]
    },
    {
     "ename": "NameError",
     "evalue": "name 'nrows' is not defined",
     "output_type": "error",
     "traceback": [
      "\u001b[0;31m---------------------------------------------------------------------------\u001b[0m",
      "\u001b[0;31mNameError\u001b[0m                                 Traceback (most recent call last)",
      "Cell \u001b[0;32mIn [18], line 1\u001b[0m\n\u001b[0;32m----> 1\u001b[0m \u001b[43malign_core\u001b[49m\u001b[43m(\u001b[49m\u001b[43mcore_A\u001b[49m\u001b[43m)\u001b[49m\n",
      "Cell \u001b[0;32mIn [17], line 20\u001b[0m, in \u001b[0;36malign_core\u001b[0;34m(core)\u001b[0m\n\u001b[1;32m     18\u001b[0m nrows \u001b[38;5;241m=\u001b[39m \u001b[38;5;28mlen\u001b[39m(core)\n\u001b[1;32m     19\u001b[0m ncols \u001b[38;5;241m=\u001b[39m \u001b[38;5;241m3\u001b[39m\n\u001b[0;32m---> 20\u001b[0m \u001b[43mplot_alignment\u001b[49m\u001b[43m(\u001b[49m\u001b[43mcore\u001b[49m\u001b[43m)\u001b[49m\n",
      "Cell \u001b[0;32mIn [17], line 24\u001b[0m, in \u001b[0;36mplot_alignment\u001b[0;34m(core)\u001b[0m\n\u001b[1;32m     22\u001b[0m \u001b[38;5;28;01mdef\u001b[39;00m \u001b[38;5;21mplot_alignment\u001b[39m(core):\n\u001b[0;32m---> 24\u001b[0m     fix, axs \u001b[38;5;241m=\u001b[39m plt\u001b[38;5;241m.\u001b[39msubplots(\u001b[43mnrows\u001b[49m, ncols, figsize\u001b[38;5;241m=\u001b[39m(\u001b[38;5;241m32\u001b[39m,\u001b[38;5;241m128\u001b[39m))\n\u001b[1;32m     26\u001b[0m     \u001b[38;5;28;01mfor\u001b[39;00m i, _ \u001b[38;5;129;01min\u001b[39;00m \u001b[38;5;28menumerate\u001b[39m(core):\n\u001b[1;32m     27\u001b[0m         axs[i, \u001b[38;5;241m0\u001b[39m]\u001b[38;5;241m.\u001b[39mimshow(core[i][\u001b[38;5;124m'\u001b[39m\u001b[38;5;124msource_image\u001b[39m\u001b[38;5;124m'\u001b[39m])\n",
      "\u001b[0;31mNameError\u001b[0m: name 'nrows' is not defined"
     ]
    }
   ],
   "source": [
    "align_core(core_A)"
   ]
  },
  {
   "cell_type": "code",
   "execution_count": 13,
   "metadata": {},
   "outputs": [
    {
     "ename": "NameError",
     "evalue": "name 'plt' is not defined",
     "output_type": "error",
     "traceback": [
      "\u001b[0;31m---------------------------------------------------------------------------\u001b[0m",
      "\u001b[0;31mNameError\u001b[0m                                 Traceback (most recent call last)",
      "Cell \u001b[0;32mIn [13], line 1\u001b[0m\n\u001b[0;32m----> 1\u001b[0m \u001b[43mplot_alignment\u001b[49m\u001b[43m(\u001b[49m\u001b[43mcore_A\u001b[49m\u001b[43m)\u001b[49m\n",
      "Cell \u001b[0;32mIn [12], line 24\u001b[0m, in \u001b[0;36mplot_alignment\u001b[0;34m(core)\u001b[0m\n\u001b[1;32m     22\u001b[0m \u001b[38;5;28;01mdef\u001b[39;00m \u001b[38;5;21mplot_alignment\u001b[39m(core):\n\u001b[0;32m---> 24\u001b[0m     fix, axs \u001b[38;5;241m=\u001b[39m \u001b[43mplt\u001b[49m\u001b[38;5;241m.\u001b[39msubplots(nrows, ncols, figsize\u001b[38;5;241m=\u001b[39m(\u001b[38;5;241m32\u001b[39m,\u001b[38;5;241m128\u001b[39m))\n\u001b[1;32m     26\u001b[0m     \u001b[38;5;28;01mfor\u001b[39;00m i, _ \u001b[38;5;129;01min\u001b[39;00m \u001b[38;5;28menumerate\u001b[39m(core):\n\u001b[1;32m     27\u001b[0m         axs[i, \u001b[38;5;241m0\u001b[39m]\u001b[38;5;241m.\u001b[39mimshow(core[i][\u001b[38;5;124m'\u001b[39m\u001b[38;5;124msource_image\u001b[39m\u001b[38;5;124m'\u001b[39m])\n",
      "\u001b[0;31mNameError\u001b[0m: name 'plt' is not defined"
     ]
    }
   ],
   "source": [
    "plot_alignment(core_A)"
   ]
  },
  {
   "cell_type": "code",
   "execution_count": null,
   "metadata": {},
   "outputs": [],
   "source": []
  }
 ],
 "metadata": {
  "kernelspec": {
   "display_name": "Python 3.8.13 ('WsiItkReg')",
   "language": "python",
   "name": "python3"
  },
  "language_info": {
   "codemirror_mode": {
    "name": "ipython",
    "version": 3
   },
   "file_extension": ".py",
   "mimetype": "text/x-python",
   "name": "python",
   "nbconvert_exporter": "python",
   "pygments_lexer": "ipython3",
   "version": "3.8.13"
  },
  "orig_nbformat": 4,
  "vscode": {
   "interpreter": {
    "hash": "68fa5e3fba7c7de3e33b452ae46b7829a9439d7ac6904526f99426d776c16949"
   }
  }
 },
 "nbformat": 4,
 "nbformat_minor": 2
}
