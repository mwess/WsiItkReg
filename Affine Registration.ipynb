{
 "cells": [
  {
   "cell_type": "markdown",
   "metadata": {},
   "source": [
    "# Test for affine alignment"
   ]
  },
  {
   "cell_type": "code",
   "execution_count": null,
   "metadata": {},
   "outputs": [],
   "source": [
    "%reload_ext autoreload\n",
    "%autoreload 2\n",
    "%matplotlib inline"
   ]
  },
  {
   "cell_type": "code",
   "execution_count": null,
   "metadata": {},
   "outputs": [],
   "source": [
    "import os\n",
    "\n",
    "import matplotlib.pyplot as plt\n",
    "import SimpleITK as sitk\n",
    "\n",
    "\n",
    "from wsiitkreg.affine import affine_align_image\n",
    "from wsiitkreg.util import ordered_images_to_batches, split_by_core_id_and_sort"
   ]
  },
  {
   "cell_type": "code",
   "execution_count": null,
   "metadata": {},
   "outputs": [],
   "source": [
    "# Choose and load dataset\n",
    "dataset = '/home/maximilw/workbench/wsi/exports/frozen_storage/normalized_frozen_storage'\n",
    "\n",
    "cores = split_by_core_id_and_sort([x for x in os.listdir(dataset) if x.endswith('.tif')])\n",
    "for key in cores:\n",
    "    cores[key] = [os.path.join(dataset, x) for x in cores[key]]\n",
    "    \n",
    "core_A = ordered_images_to_batches(cores['A'])\n",
    "core_B = ordered_images_to_batches(cores['B'])\n",
    "core_C = ordered_images_to_batches(cores['C'])\n",
    "core_D = ordered_images_to_batches(cores['D'])"
   ]
  },
  {
   "cell_type": "code",
   "execution_count": null,
   "metadata": {},
   "outputs": [],
   "source": [
    "def align_core(core):\n",
    "    \n",
    "    aligned_core = []\n",
    "    print('Core size: ', len(core))\n",
    "    print()\n",
    "    for i, batch in enumerate(core):\n",
    "        print('Next batch index: ', i)\n",
    "        transformed_image, transform, fixed_mask, moving_mask = affine_align_image(batch['source_image_path'], batch['target_image_path'])\n",
    "        batch['sitk_transformed_image'] = transformed_image\n",
    "        batch['transform'] = transform\n",
    "        batch['fixed_mask'] = fixed_mask\n",
    "        batch['moving_mask'] = moving_mask\n",
    "        batch['source_image'] = sitk.GetArrayFromImage(sitk.ReadImage(batch['source_image_path'], sitk.sitkFloat32))\n",
    "        batch['target_image'] = sitk.GetArrayFromImage(sitk.ReadImage(batch['target_image_path'], sitk.sitkFloat32))\n",
    "        batch['transformed_image'] = sitk.GetArrayFromImage(batch['sitk_transformed_image'])\n",
    "        aligned_core.append(batch)\n",
    "\n",
    "    plot_alignment(core)\n",
    "\n",
    "def plot_alignment(core):\n",
    "    \n",
    "    nrows = len(core)\n",
    "    ncols = 3\n",
    "\n",
    "    fix, axs = plt.subplots(nrows, ncols, figsize=(32,128))\n",
    "\n",
    "    for i, _ in enumerate(core):\n",
    "        axs[i, 0].imshow(core[i]['source_image'])\n",
    "        axs[i, 0].set_title('Source Image')\n",
    "        axs[i, 0].axis('off')\n",
    "        axs[i, 1].imshow(core[i]['target_image'])\n",
    "        axs[i, 1].set_title('Target Image')\n",
    "        axs[i, 1].axis('off')\n",
    "        axs[i, 2].imshow(core[i]['transformed_image'])\n",
    "        axs[i, 2].set_title('Affine')\n",
    "        axs[i, 2].axis('off')\n",
    "    plt.show()"
   ]
  },
  {
   "cell_type": "code",
   "execution_count": null,
   "metadata": {},
   "outputs": [],
   "source": [
    "align_core(core_A)"
   ]
  },
  {
   "cell_type": "code",
   "execution_count": null,
   "metadata": {},
   "outputs": [],
   "source": [
    "plot_alignment(core_A)"
   ]
  },
  {
   "cell_type": "code",
   "execution_count": null,
   "metadata": {},
   "outputs": [],
   "source": []
  }
 ],
 "metadata": {
  "kernelspec": {
   "display_name": "Python 3.8.13 ('WsiItkReg')",
   "language": "python",
   "name": "python3"
  },
  "language_info": {
   "codemirror_mode": {
    "name": "ipython",
    "version": 3
   },
   "file_extension": ".py",
   "mimetype": "text/x-python",
   "name": "python",
   "nbconvert_exporter": "python",
   "pygments_lexer": "ipython3",
   "version": "3.8.13"
  },
  "orig_nbformat": 4,
  "vscode": {
   "interpreter": {
    "hash": "68fa5e3fba7c7de3e33b452ae46b7829a9439d7ac6904526f99426d776c16949"
   }
  }
 },
 "nbformat": 4,
 "nbformat_minor": 2
}
